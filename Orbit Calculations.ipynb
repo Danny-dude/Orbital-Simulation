{
 "cells": [
  {
   "attachments": {},
   "cell_type": "markdown",
   "metadata": {},
   "source": [
    "#### $\\underline{\\text{Calculating Orbital Elements from position and velocity}}$"
   ]
  },
  {
   "cell_type": "code",
   "execution_count": 27,
   "metadata": {},
   "outputs": [],
   "source": [
    "import numpy as np\n",
    "from numpy import linalg as LA\n",
    "r = np.array([200, -150, 250])\n",
    "r_mag = LA.norm(r)\n",
    "v = np.array([5, 0, 0])\n",
    "v_mag = LA.norm(v)\n",
    "G = 1\n",
    "m1 = 1e4\n",
    "μ = G*m1\n",
    "ε = v_mag**2/2 - μ/r_mag\n",
    "Iz = np.array([0,0,1])\n",
    "Ix = np.array([1,0,0])"
   ]
  },
  {
   "attachments": {},
   "cell_type": "markdown",
   "metadata": {},
   "source": [
    "#### $\\underline{\\text{Semi-Major Axis}}$"
   ]
  },
  {
   "cell_type": "code",
   "execution_count": 28,
   "metadata": {},
   "outputs": [
    {
     "name": "stdout",
     "output_type": "stream",
     "text": [
      "Semimajor axis:  316.7710388152381\n"
     ]
    }
   ],
   "source": [
    "a = -μ/(2*ε)\n",
    "print(\"Semimajor axis: \", a)"
   ]
  },
  {
   "attachments": {},
   "cell_type": "markdown",
   "metadata": {},
   "source": [
    "#### $\\underline{\\text{Eccentricity Vector}}$"
   ]
  },
  {
   "cell_type": "code",
   "execution_count": 30,
   "metadata": {},
   "outputs": [
    {
     "name": "stdout",
     "output_type": "stream",
     "text": [
      "Specific angular momentum: [   0 1250  750] \n",
      " Eccentricity vector: [-0.56568542  0.04926407 -0.08210678]\n"
     ]
    }
   ],
   "source": [
    "h = np.cross(r,v)\n",
    "e = np.cross(v,h)/μ - r/r_mag\n",
    "e_mag = LA.norm(e)\n",
    "print(\"Specific angular momentum:\", h,\"\\n\",\"Eccentricity vector:\", e)"
   ]
  },
  {
   "cell_type": "code",
   "execution_count": 37,
   "metadata": {},
   "outputs": [
    {
     "name": "stdout",
     "output_type": "stream",
     "text": [
      "750 \n",
      " 1.0303768265243125\n"
     ]
    }
   ],
   "source": [
    "i = np.arccos(np.dot(h,Iz)/LA.norm(h))\n",
    "print(np.dot(h,Iz),\"\\n\",i)"
   ]
  },
  {
   "cell_type": "code",
   "execution_count": 38,
   "metadata": {},
   "outputs": [
    {
     "name": "stdout",
     "output_type": "stream",
     "text": [
      "3.141592653589793 \n",
      " 0.16767811239884878\n"
     ]
    },
    {
     "data": {
      "text/plain": [
       "-1250"
      ]
     },
     "execution_count": 38,
     "metadata": {},
     "output_type": "execute_result"
    }
   ],
   "source": [
    "N = np.cross(Iz,h)\n",
    "Ω = np.arccos(np.dot(Ix,N)/LA.norm(N))\n",
    "ω = np.arccos(np.dot(e,N)/(LA.norm(N)*LA.norm(e)))\n",
    "print(Ω, \"\\n\", ω)\n",
    "np.dot(Ix,N)"
   ]
  },
  {
   "cell_type": "code",
   "execution_count": 35,
   "metadata": {},
   "outputs": [
    {
     "name": "stdout",
     "output_type": "stream",
     "text": [
      "-45.39316449709863\n"
     ]
    }
   ],
   "source": [
    "u = np.arccos(np.dot(N,r)/(LA.norm(N)*r_mag))\n",
    "θ = u - ω\n",
    "E = 2*np.arctan(np.sqrt((1-e_mag)/(1+e_mag))*np.tan(θ/2))\n",
    "t = 0 \n",
    "n = np.sqrt(μ/a**3)\n",
    "tp = t - (E-e_mag*np.sin(E))/n\n",
    "print(tp)"
   ]
  },
  {
   "cell_type": "code",
   "execution_count": null,
   "metadata": {},
   "outputs": [],
   "source": []
  }
 ],
 "metadata": {
  "kernelspec": {
   "display_name": "PyEnviro",
   "language": "python",
   "name": "python3"
  },
  "language_info": {
   "codemirror_mode": {
    "name": "ipython",
    "version": 3
   },
   "file_extension": ".py",
   "mimetype": "text/x-python",
   "name": "python",
   "nbconvert_exporter": "python",
   "pygments_lexer": "ipython3",
   "version": "3.10.9"
  },
  "orig_nbformat": 4
 },
 "nbformat": 4,
 "nbformat_minor": 2
}
